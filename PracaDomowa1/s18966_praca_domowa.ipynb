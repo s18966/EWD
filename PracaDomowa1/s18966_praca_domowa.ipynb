{
 "cells": [
  {
   "cell_type": "code",
   "execution_count": 6,
   "source": [
    "%pip install StrEnum\r\n"
   ],
   "outputs": [
    {
     "output_type": "stream",
     "name": "stdout",
     "text": [
      "Defaulting to user installation because normal site-packages is not writeable\n",
      "Collecting StrEnum\n",
      "  Using cached StrEnum-0.4.7-py3-none-any.whl (9.9 kB)\n",
      "Installing collected packages: StrEnum\n",
      "Successfully installed StrEnum-0.4.7\n",
      "Note: you may need to restart the kernel to use updated packages.\n"
     ]
    },
    {
     "output_type": "stream",
     "name": "stderr",
     "text": [
      "WARNING: You are using pip version 21.1.3; however, version 22.0.4 is available.\n",
      "You should consider upgrading via the 'C:\\Program Files\\Python39\\python.exe -m pip install --upgrade pip' command.\n"
     ]
    }
   ],
   "metadata": {}
  },
  {
   "cell_type": "markdown",
   "source": [
    "## Zadanie 1"
   ],
   "metadata": {}
  },
  {
   "cell_type": "code",
   "execution_count": 2,
   "source": [
    "from strenum import StrEnum\r\n",
    "## Enums with toString\r\n",
    "class Gender(StrEnum):\r\n",
    "    MALE = \"Male\",\r\n",
    "    FEMALE = \"Female\"\r\n",
    "\r\n",
    "class Genus(StrEnum):\r\n",
    "    CANIS = \"Canis\",\r\n",
    "    FELIS = \"Felis\""
   ],
   "outputs": [],
   "metadata": {}
  },
  {
   "cell_type": "code",
   "execution_count": 3,
   "source": [
    "\r\n",
    "class Animal:\r\n",
    "    def __init__(self, genus, gender=Gender.FEMALE):\r\n",
    "        self.isAlive = True\r\n",
    "        self.gender = gender\r\n",
    "        self.genus = genus\r\n",
    "\r\n",
    "    def breed(self, partner):\r\n",
    "        try:\r\n",
    "            if self.gender == Gender.FEMALE and partner.gender == Gender.MALE and self.genus == partner.genus:\r\n",
    "                child = Animal(genus=self.genus)\r\n",
    "                return child\r\n",
    "            else:\r\n",
    "                return None\r\n",
    "        except AttributeError:\r\n",
    "            print(\"Attribute not found\")\r\n",
    "    \r\n",
    "    def __str__(self):\r\n",
    "        return \"isAlive: {}, gender: {}, genus: {}\".format(self.isAlive, self.gender, self.genus)\r\n",
    "\r\n",
    "\r\n",
    "class Cat(Animal):\r\n",
    "    def __init__(self, gender=Gender.FEMALE):\r\n",
    "        self.isAlive = True\r\n",
    "        self.gender = gender\r\n",
    "        self.genus = Genus.FELIS \r\n",
    "    def purr(self):\r\n",
    "        return \"purr\"\r\n",
    "\r\n",
    "class Dog(Animal):\r\n",
    "    def __init__(self, gender=Gender.FEMALE):\r\n",
    "        self.isAlive= True\r\n",
    "        self.gender = gender\r\n",
    "        self.genus = Genus.CANIS\r\n",
    "    def woof(self):\r\n",
    "        return \"woof woof\""
   ],
   "outputs": [],
   "metadata": {}
  },
  {
   "cell_type": "code",
   "execution_count": 4,
   "source": [
    "cat = Cat(gender=Gender.FEMALE)\r\n",
    "cat2 = Cat(gender=Gender.MALE)\r\n",
    "cat_child = cat.breed(cat2)\r\n",
    "print(cat_child)\r\n",
    "\r\n",
    "dog = Dog()\r\n",
    "dog2 = Dog(gender=Gender.MALE)\r\n",
    "dog_child = dog.breed(dog2)\r\n",
    "print(dog_child)\r\n"
   ],
   "outputs": [
    {
     "output_type": "stream",
     "name": "stdout",
     "text": [
      "isAlive: True, gender: Female, genus: Felis\n",
      "isAlive: True, gender: Female, genus: Canis\n"
     ]
    }
   ],
   "metadata": {}
  },
  {
   "cell_type": "markdown",
   "source": [
    "## Zadanie 2"
   ],
   "metadata": {}
  },
  {
   "cell_type": "code",
   "execution_count": 5,
   "source": [
    "#cleanup\r\n",
    "!python -m pip uninstall StrEnum --yes "
   ],
   "outputs": [
    {
     "output_type": "stream",
     "name": "stdout",
     "text": [
      "Found existing installation: StrEnum 0.4.7\n",
      "Uninstalling StrEnum-0.4.7:\n",
      "  Successfully uninstalled StrEnum-0.4.7\n"
     ]
    }
   ],
   "metadata": {}
  }
 ],
 "metadata": {
  "orig_nbformat": 4,
  "language_info": {
   "name": "python"
  }
 },
 "nbformat": 4,
 "nbformat_minor": 2
}