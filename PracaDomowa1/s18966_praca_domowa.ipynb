{
 "cells": [
  {
   "cell_type": "code",
   "execution_count": 28,
   "metadata": {},
   "outputs": [
    {
     "name": "stdout",
     "output_type": "stream",
     "text": [
      "Requirement already satisfied: StrEnum in /opt/anaconda3/lib/python3.8/site-packages (0.4.7)\n",
      "Note: you may need to restart the kernel to use updated packages.\n",
      "Requirement already satisfied: tabulate in /opt/anaconda3/lib/python3.8/site-packages (0.8.9)\n",
      "Note: you may need to restart the kernel to use updated packages.\n"
     ]
    }
   ],
   "source": [
    "%pip install StrEnum\n",
    "%pip install tabulate"
   ]
  },
  {
   "cell_type": "code",
   "execution_count": 29,
   "metadata": {},
   "outputs": [],
   "source": [
    "#imports \n",
    "from tabulate import tabulate\n",
    "from strenum import StrEnum\n",
    "import datetime"
   ]
  },
  {
   "cell_type": "markdown",
   "metadata": {},
   "source": [
    "## Zadanie 1"
   ]
  },
  {
   "cell_type": "code",
   "execution_count": 30,
   "metadata": {},
   "outputs": [],
   "source": [
    "\n",
    "## Enums with toString\n",
    "class Gender(StrEnum):\n",
    "    MALE = \"Male\",\n",
    "    FEMALE = \"Female\"\n",
    "\n",
    "class Genus(StrEnum):\n",
    "    CANIS = \"Canis\",\n",
    "    FELIS = \"Felis\""
   ]
  },
  {
   "cell_type": "code",
   "execution_count": 31,
   "metadata": {},
   "outputs": [],
   "source": [
    "\n",
    "class Animal:\n",
    "    def __init__(self, genus, gender=Gender.FEMALE):\n",
    "        self.isAlive = True\n",
    "        self.gender = gender\n",
    "        self.genus = genus\n",
    "\n",
    "    def breed(self, partner):\n",
    "        try:\n",
    "            if self.gender == Gender.FEMALE and partner.gender == Gender.MALE and self.genus == partner.genus:\n",
    "                child = Animal(genus=self.genus)\n",
    "                return child\n",
    "            else:\n",
    "                return None\n",
    "        except AttributeError:\n",
    "            print(\"Attribute not found\")\n",
    "    \n",
    "    def __str__(self):\n",
    "        return \"isAlive: {}, gender: {}, genus: {}\".format(self.isAlive, self.gender, self.genus)\n",
    "\n",
    "\n",
    "class Cat(Animal):\n",
    "    def __init__(self, gender=Gender.FEMALE):\n",
    "        self.isAlive = True\n",
    "        self.gender = gender\n",
    "        self.genus = Genus.FELIS \n",
    "    def purr(self):\n",
    "        return \"purr\"\n",
    "\n",
    "class Dog(Animal):\n",
    "    def __init__(self, gender=Gender.FEMALE):\n",
    "        self.isAlive= True\n",
    "        self.gender = gender\n",
    "        self.genus = Genus.CANIS\n",
    "    def woof(self):\n",
    "        return \"woof woof\""
   ]
  },
  {
   "cell_type": "code",
   "execution_count": 32,
   "metadata": {},
   "outputs": [
    {
     "name": "stdout",
     "output_type": "stream",
     "text": [
      "isAlive: True, gender: Female, genus: Felis\n",
      "isAlive: True, gender: Female, genus: Canis\n"
     ]
    }
   ],
   "source": [
    "cat = Cat(gender=Gender.FEMALE)\n",
    "cat2 = Cat(gender=Gender.MALE)\n",
    "cat_child = cat.breed(cat2)\n",
    "print(cat_child)\n",
    "\n",
    "dog = Dog()\n",
    "dog2 = Dog(gender=Gender.MALE)\n",
    "dog_child = dog.breed(dog2)\n",
    "print(dog_child)\n"
   ]
  },
  {
   "cell_type": "markdown",
   "metadata": {},
   "source": [
    "## Zadanie 2"
   ]
  },
  {
   "cell_type": "code",
   "execution_count": 33,
   "metadata": {},
   "outputs": [
    {
     "name": "stdout",
     "output_type": "stream",
     "text": [
      "  Number  Name       Salary    Age\n",
      "--------  -------  --------  -----\n",
      "       1  Adam         1500   1983\n",
      "       2  Anna         1700   1981\n",
      "       3  Błażej       1800   1990\n",
      "       4  Beata        1600   1992\n",
      "       5  Czesław      2000   1980\n",
      "       6  Cecylia      2100   1983\n",
      "       7  Daniel       1900   1976\n"
     ]
    }
   ],
   "source": [
    "class Worker:\n",
    "\n",
    "    def __init__(self, number, name, age, salary):\n",
    "        self.number = number\n",
    "        self.name = name\n",
    "        self.age = age\n",
    "        self.salary = salary\n",
    "     \n",
    "    def show_table(workers):\n",
    "        print(tabulate(workers, headers=[\"Number\", \"Name\", \"Salary\", \"Age\"]))\n",
    "\n",
    "    def as_arr(self):\n",
    "        return [self.number, self.name, self.salary, self.age]\n",
    "\n",
    "w1 = Worker(1, \"Adam\", 1983, 1500)\n",
    "w2 = Worker(2, \"Anna\", 1981, 1700)\n",
    "w3 = Worker(3, \"Błażej\", 1990, 1800)\n",
    "w4 = Worker(4, \"Beata\", 1992, 1600)\n",
    "w5 = Worker(5, \"Czesław\", 1980, 2000)\n",
    "w6 = Worker(6, \"Cecylia\", 1983, 2100)\n",
    "w7 = Worker(7, \"Daniel\", 1976, 1900)\n",
    "workers = [w1, w2, w3, w4, w5, w6, w7]\n",
    "workers_for_table = [i.as_arr() for i in workers]\n",
    "Worker.show_table(workers_for_table)\n"
   ]
  },
  {
   "cell_type": "code",
   "execution_count": 34,
   "metadata": {},
   "outputs": [
    {
     "name": "stdout",
     "output_type": "stream",
     "text": [
      "Average sal is 1800.0\n",
      "For group of workers 30 years old and below average salary is 1600.0. For group of workers above 30 years old salary is 1833.3333333333333. Difference is: 233.33333333333326\n"
     ]
    }
   ],
   "source": [
    "def avg(workers):\n",
    "    count = 0\n",
    "    sal = 0\n",
    "    for w in workers:\n",
    "        sal = sal + w.salary\n",
    "        count = count + 1 \n",
    "    return sal / count \n",
    "\n",
    "def compareAvgs(workers):\n",
    "    year_now = datetime.date.today().year\n",
    "    group_younger = []\n",
    "    group_older = []\n",
    "    for w in workers:\n",
    "        if year_now - w.age > 30:\n",
    "            group_older.append(w)\n",
    "        else:\n",
    "            group_younger.append(w)\n",
    "    \n",
    "    avg_younger = avg(group_younger)\n",
    "    avg_older = avg(group_older)\n",
    "    print(\"For group of workers 30 years old and below average salary is {}. For group of workers above 30 years old salary is {}. Difference is: {}\".format(avg_younger, avg_older, abs(avg_younger-avg_older)))\n",
    "\n",
    "print(\"Average sal is {}\".format(avg(workers)))\n",
    "compareAvgs(workers)"
   ]
  },
  {
   "cell_type": "code",
   "execution_count": 35,
   "metadata": {},
   "outputs": [
    {
     "name": "stdout",
     "output_type": "stream",
     "text": [
      "Found existing installation: StrEnum 0.4.7\n",
      "Uninstalling StrEnum-0.4.7:\n",
      "  Successfully uninstalled StrEnum-0.4.7\n",
      "Found existing installation: tabulate 0.8.9\n",
      "Uninstalling tabulate-0.8.9:\n",
      "  Successfully uninstalled tabulate-0.8.9\n"
     ]
    }
   ],
   "source": [
    "#cleanup\n",
    "!python -m pip uninstall StrEnum --yes \n",
    "!python -m pip uninstall tabulate --yes "
   ]
  }
 ],
 "metadata": {
  "interpreter": {
   "hash": "40d3a090f54c6569ab1632332b64b2c03c39dcf918b08424e98f38b5ae0af88f"
  },
  "kernelspec": {
   "display_name": "Python 3.8.5 64-bit ('base': conda)",
   "language": "python",
   "name": "python3"
  },
  "language_info": {
   "codemirror_mode": {
    "name": "ipython",
    "version": 3
   },
   "file_extension": ".py",
   "mimetype": "text/x-python",
   "name": "python",
   "nbconvert_exporter": "python",
   "pygments_lexer": "ipython3",
   "version": "3.8.5"
  },
  "orig_nbformat": 4
 },
 "nbformat": 4,
 "nbformat_minor": 2
}
