{
 "metadata": {
  "language_info": {
   "codemirror_mode": {
    "name": "ipython",
    "version": 3
   },
   "file_extension": ".py",
   "mimetype": "text/x-python",
   "name": "python",
   "nbconvert_exporter": "python",
   "pygments_lexer": "ipython3",
   "version": "3.9.6"
  },
  "orig_nbformat": 4,
  "kernelspec": {
   "name": "python3",
   "display_name": "Python 3.9.6 64-bit"
  },
  "interpreter": {
   "hash": "ac59ebe37160ed0dfa835113d9b8498d9f09ceb179beaac4002f036b9467c963"
  }
 },
 "nbformat": 4,
 "nbformat_minor": 2,
 "cells": [
  {
   "source": [
    "#Imports\n",
    "import pandas as pd\n"
   ],
   "cell_type": "code",
   "metadata": {},
   "execution_count": 3,
   "outputs": []
  },
  {
   "source": [
    "## Zadanie 1"
   ],
   "cell_type": "markdown",
   "metadata": {}
  },
  {
   "cell_type": "code",
   "execution_count": 24,
   "metadata": {},
   "outputs": [
    {
     "output_type": "stream",
     "name": "stdout",
     "text": [
      "<class 'pandas.core.frame.DataFrame'>\nRangeIndex: 26552 entries, 0 to 26551\nData columns (total 7 columns):\n #   Column           Non-Null Count  Dtype  \n---  ------           --------------  -----  \n 0   order_date       26552 non-null  object \n 1   pages_visited    26552 non-null  int64  \n 2   order_id         26552 non-null  object \n 3   customer_id      26552 non-null  object \n 4   tshirt_category  26552 non-null  object \n 5   tshirt_price     26552 non-null  float64\n 6   tshirt_quantity  26552 non-null  int64  \ndtypes: float64(1), int64(2), object(4)\nmemory usage: 1.4+ MB\n"
     ]
    }
   ],
   "source": [
    "orders = pd.read_csv('csv/orders.csv')\n",
    "\n",
    "orders.info()"
   ]
  },
  {
   "cell_type": "code",
   "execution_count": 25,
   "metadata": {},
   "outputs": [
    {
     "output_type": "execute_result",
     "data": {
      "text/plain": [
       "       pages_visited  tshirt_price  tshirt_quantity\n",
       "count   26552.000000  26552.000000     26552.000000\n",
       "mean       10.838016     20.223768         2.693394\n",
       "std         3.589299      2.220651         3.456182\n",
       "min         2.000000     17.500000         1.000000\n",
       "25%         8.000000     18.000000         1.000000\n",
       "50%        11.000000     20.000000         2.000000\n",
       "75%        13.000000     23.000000         3.000000\n",
       "max        28.000000     24.000000        29.000000"
      ],
      "text/html": "<div>\n<style scoped>\n    .dataframe tbody tr th:only-of-type {\n        vertical-align: middle;\n    }\n\n    .dataframe tbody tr th {\n        vertical-align: top;\n    }\n\n    .dataframe thead th {\n        text-align: right;\n    }\n</style>\n<table border=\"1\" class=\"dataframe\">\n  <thead>\n    <tr style=\"text-align: right;\">\n      <th></th>\n      <th>pages_visited</th>\n      <th>tshirt_price</th>\n      <th>tshirt_quantity</th>\n    </tr>\n  </thead>\n  <tbody>\n    <tr>\n      <th>count</th>\n      <td>26552.000000</td>\n      <td>26552.000000</td>\n      <td>26552.000000</td>\n    </tr>\n    <tr>\n      <th>mean</th>\n      <td>10.838016</td>\n      <td>20.223768</td>\n      <td>2.693394</td>\n    </tr>\n    <tr>\n      <th>std</th>\n      <td>3.589299</td>\n      <td>2.220651</td>\n      <td>3.456182</td>\n    </tr>\n    <tr>\n      <th>min</th>\n      <td>2.000000</td>\n      <td>17.500000</td>\n      <td>1.000000</td>\n    </tr>\n    <tr>\n      <th>25%</th>\n      <td>8.000000</td>\n      <td>18.000000</td>\n      <td>1.000000</td>\n    </tr>\n    <tr>\n      <th>50%</th>\n      <td>11.000000</td>\n      <td>20.000000</td>\n      <td>2.000000</td>\n    </tr>\n    <tr>\n      <th>75%</th>\n      <td>13.000000</td>\n      <td>23.000000</td>\n      <td>3.000000</td>\n    </tr>\n    <tr>\n      <th>max</th>\n      <td>28.000000</td>\n      <td>24.000000</td>\n      <td>29.000000</td>\n    </tr>\n  </tbody>\n</table>\n</div>"
     },
     "metadata": {},
     "execution_count": 25
    }
   ],
   "source": [
    "orders.describe()"
   ]
  },
  {
   "cell_type": "code",
   "execution_count": 26,
   "metadata": {},
   "outputs": [
    {
     "output_type": "execute_result",
     "data": {
      "text/plain": [
       "   order_date  pages_visited         order_id customer_id  tshirt_category  \\\n",
       "0  2016/09/04              9  HTS-038040-0002      038040  White T-Shirt M   \n",
       "1  2014/11/14             11  HTS-801797-0001      801797  White T-Shirt M   \n",
       "2  2017/02/26             10  HTS-vft1eu-0003      vft1eu  White T-Shirt F   \n",
       "3  2013/12/01             10  HTS-914324-0001      914324      Wh Tshirt F   \n",
       "4  2015/10/22             12  HTS-88ua9r-0001      88ua9r  White T-Shirt M   \n",
       "\n",
       "   tshirt_price  tshirt_quantity  \n",
       "0          20.0                1  \n",
       "1          20.0                1  \n",
       "2          18.0                3  \n",
       "3          18.0                1  \n",
       "4          20.0                1  "
      ],
      "text/html": "<div>\n<style scoped>\n    .dataframe tbody tr th:only-of-type {\n        vertical-align: middle;\n    }\n\n    .dataframe tbody tr th {\n        vertical-align: top;\n    }\n\n    .dataframe thead th {\n        text-align: right;\n    }\n</style>\n<table border=\"1\" class=\"dataframe\">\n  <thead>\n    <tr style=\"text-align: right;\">\n      <th></th>\n      <th>order_date</th>\n      <th>pages_visited</th>\n      <th>order_id</th>\n      <th>customer_id</th>\n      <th>tshirt_category</th>\n      <th>tshirt_price</th>\n      <th>tshirt_quantity</th>\n    </tr>\n  </thead>\n  <tbody>\n    <tr>\n      <th>0</th>\n      <td>2016/09/04</td>\n      <td>9</td>\n      <td>HTS-038040-0002</td>\n      <td>038040</td>\n      <td>White T-Shirt M</td>\n      <td>20.0</td>\n      <td>1</td>\n    </tr>\n    <tr>\n      <th>1</th>\n      <td>2014/11/14</td>\n      <td>11</td>\n      <td>HTS-801797-0001</td>\n      <td>801797</td>\n      <td>White T-Shirt M</td>\n      <td>20.0</td>\n      <td>1</td>\n    </tr>\n    <tr>\n      <th>2</th>\n      <td>2017/02/26</td>\n      <td>10</td>\n      <td>HTS-vft1eu-0003</td>\n      <td>vft1eu</td>\n      <td>White T-Shirt F</td>\n      <td>18.0</td>\n      <td>3</td>\n    </tr>\n    <tr>\n      <th>3</th>\n      <td>2013/12/01</td>\n      <td>10</td>\n      <td>HTS-914324-0001</td>\n      <td>914324</td>\n      <td>Wh Tshirt F</td>\n      <td>18.0</td>\n      <td>1</td>\n    </tr>\n    <tr>\n      <th>4</th>\n      <td>2015/10/22</td>\n      <td>12</td>\n      <td>HTS-88ua9r-0001</td>\n      <td>88ua9r</td>\n      <td>White T-Shirt M</td>\n      <td>20.0</td>\n      <td>1</td>\n    </tr>\n  </tbody>\n</table>\n</div>"
     },
     "metadata": {},
     "execution_count": 26
    }
   ],
   "source": [
    "orders.head()"
   ]
  },
  {
   "cell_type": "code",
   "execution_count": 27,
   "metadata": {},
   "outputs": [],
   "source": [
    "orders[\"order_date\"] = pd.to_datetime(orders[\"order_date\"])"
   ]
  },
  {
   "source": [
    "orders.info()"
   ],
   "cell_type": "code",
   "metadata": {},
   "execution_count": 28,
   "outputs": [
    {
     "output_type": "stream",
     "name": "stdout",
     "text": [
      "<class 'pandas.core.frame.DataFrame'>\nRangeIndex: 26552 entries, 0 to 26551\nData columns (total 7 columns):\n #   Column           Non-Null Count  Dtype         \n---  ------           --------------  -----         \n 0   order_date       26552 non-null  datetime64[ns]\n 1   pages_visited    26552 non-null  int64         \n 2   order_id         26552 non-null  object        \n 3   customer_id      26552 non-null  object        \n 4   tshirt_category  26552 non-null  object        \n 5   tshirt_price     26552 non-null  float64       \n 6   tshirt_quantity  26552 non-null  int64         \ndtypes: datetime64[ns](1), float64(1), int64(2), object(3)\nmemory usage: 1.4+ MB\n"
     ]
    }
   ]
  },
  {
   "cell_type": "code",
   "execution_count": 31,
   "metadata": {},
   "outputs": [
    {
     "output_type": "execute_result",
     "data": {
      "text/plain": [
       "  order_date  pages_visited         order_id customer_id  tshirt_category  \\\n",
       "0 2016-09-04              9  HTS-038040-0002      038040  White T-Shirt M   \n",
       "1 2014-11-14             11  HTS-801797-0001      801797  White T-Shirt M   \n",
       "2 2017-02-26             10  HTS-vft1eu-0003      vft1eu  White T-Shirt F   \n",
       "3 2013-12-01             10  HTS-914324-0001      914324      Wh Tshirt F   \n",
       "4 2015-10-22             12  HTS-88ua9r-0001      88ua9r  White T-Shirt M   \n",
       "\n",
       "   tshirt_price  tshirt_quantity  \n",
       "0          20.0                1  \n",
       "1          20.0                1  \n",
       "2          18.0                3  \n",
       "3          18.0                1  \n",
       "4          20.0                1  "
      ],
      "text/html": "<div>\n<style scoped>\n    .dataframe tbody tr th:only-of-type {\n        vertical-align: middle;\n    }\n\n    .dataframe tbody tr th {\n        vertical-align: top;\n    }\n\n    .dataframe thead th {\n        text-align: right;\n    }\n</style>\n<table border=\"1\" class=\"dataframe\">\n  <thead>\n    <tr style=\"text-align: right;\">\n      <th></th>\n      <th>order_date</th>\n      <th>pages_visited</th>\n      <th>order_id</th>\n      <th>customer_id</th>\n      <th>tshirt_category</th>\n      <th>tshirt_price</th>\n      <th>tshirt_quantity</th>\n    </tr>\n  </thead>\n  <tbody>\n    <tr>\n      <th>0</th>\n      <td>2016-09-04</td>\n      <td>9</td>\n      <td>HTS-038040-0002</td>\n      <td>038040</td>\n      <td>White T-Shirt M</td>\n      <td>20.0</td>\n      <td>1</td>\n    </tr>\n    <tr>\n      <th>1</th>\n      <td>2014-11-14</td>\n      <td>11</td>\n      <td>HTS-801797-0001</td>\n      <td>801797</td>\n      <td>White T-Shirt M</td>\n      <td>20.0</td>\n      <td>1</td>\n    </tr>\n    <tr>\n      <th>2</th>\n      <td>2017-02-26</td>\n      <td>10</td>\n      <td>HTS-vft1eu-0003</td>\n      <td>vft1eu</td>\n      <td>White T-Shirt F</td>\n      <td>18.0</td>\n      <td>3</td>\n    </tr>\n    <tr>\n      <th>3</th>\n      <td>2013-12-01</td>\n      <td>10</td>\n      <td>HTS-914324-0001</td>\n      <td>914324</td>\n      <td>Wh Tshirt F</td>\n      <td>18.0</td>\n      <td>1</td>\n    </tr>\n    <tr>\n      <th>4</th>\n      <td>2015-10-22</td>\n      <td>12</td>\n      <td>HTS-88ua9r-0001</td>\n      <td>88ua9r</td>\n      <td>White T-Shirt M</td>\n      <td>20.0</td>\n      <td>1</td>\n    </tr>\n  </tbody>\n</table>\n</div>"
     },
     "metadata": {},
     "execution_count": 31
    }
   ],
   "source": [
    "orders.head()"
   ]
  },
  {
   "cell_type": "code",
   "execution_count": 33,
   "metadata": {},
   "outputs": [
    {
     "output_type": "stream",
     "name": "stdout",
     "text": [
      "['White T-Shirt M' 'White T-Shirt F' 'Wh Tshirt F' 'Black T-Shirt F'\n 'Hoodie' 'Black T-Shirt M' 'Tennis Shirt' 'Wh Tshirt M' 'Bl Tshirt F'\n 'Bl Tshirt M']\n10\n"
     ]
    }
   ],
   "source": [
    "print(orders[\"tshirt_category\"].unique())\n",
    "print(orders[\"tshirt_category\"].nunique())"
   ]
  },
  {
   "cell_type": "code",
   "execution_count": 35,
   "metadata": {},
   "outputs": [],
   "source": [
    "tshirts_mapping = {\n",
    "    'White T-Shirt M' : 'White T-Shirt M',\n",
    "    'White T-Shirt F' : 'White T-Shirt F',\n",
    "    'Wh Tshirt F' : 'White T-Shirt F',\n",
    "    'Black T-Shirt F' : 'Black T-Shirt F',\n",
    "    'Hoodie' : 'Yellow Hoodie M',\n",
    "    'Black T-Shirt M':  'Black T-Shirt M',\n",
    "    'Tennis Shirt': 'Green Tennis-Shirt F',\n",
    "    'Wh Tshirt M' : 'White T-Shirt M',\n",
    "    'Bl Tshirt F' : 'Black T-Shirt F',\n",
    "     'Bl Tshirt M' : 'Black T-Shirt M'\n",
    "}\n",
    "\n",
    "change_category = lambda x: tshirts_mapping[x]\n",
    "\n",
    "orders[\"tshirt_category\"] = orders[\"tshirt_category\"].apply(change_category)"
   ]
  },
  {
   "cell_type": "code",
   "execution_count": 36,
   "metadata": {},
   "outputs": [
    {
     "output_type": "stream",
     "name": "stdout",
     "text": [
      "['White T-Shirt M' 'White T-Shirt F' 'Black T-Shirt F' 'Hoodie'\n 'Black T-Shirt M' 'Tennis Shirt']\n6\n"
     ]
    }
   ],
   "source": [
    "print(orders[\"tshirt_category\"].unique())\n",
    "print(orders[\"tshirt_category\"].nunique())"
   ]
  },
  {
   "cell_type": "code",
   "execution_count": 60,
   "metadata": {},
   "outputs": [],
   "source": [
    "orders[[\"tshirt_color\", \"tshirt_type\" , \"tshirt_sex\"]] = orders[\"tshirt_category\"].str.split(' ', 2, expand=True)"
   ]
  },
  {
   "cell_type": "code",
   "execution_count": 61,
   "metadata": {},
   "outputs": [
    {
     "output_type": "execute_result",
     "data": {
      "text/plain": [
       "  order_date  pages_visited         order_id customer_id  tshirt_category  \\\n",
       "0 2016-09-04              9  HTS-038040-0002      038040  White T-Shirt M   \n",
       "1 2014-11-14             11  HTS-801797-0001      801797  White T-Shirt M   \n",
       "2 2017-02-26             10  HTS-vft1eu-0003      vft1eu  White T-Shirt F   \n",
       "3 2013-12-01             10  HTS-914324-0001      914324  White T-Shirt F   \n",
       "4 2015-10-22             12  HTS-88ua9r-0001      88ua9r  White T-Shirt M   \n",
       "\n",
       "   tshirt_price  tshirt_quantity tshirt_color tshirt_type tshirt_sex  \n",
       "0          20.0                1        White     T-Shirt          M  \n",
       "1          20.0                1        White     T-Shirt          M  \n",
       "2          18.0                3        White     T-Shirt          F  \n",
       "3          18.0                1        White     T-Shirt          F  \n",
       "4          20.0                1        White     T-Shirt          M  "
      ],
      "text/html": "<div>\n<style scoped>\n    .dataframe tbody tr th:only-of-type {\n        vertical-align: middle;\n    }\n\n    .dataframe tbody tr th {\n        vertical-align: top;\n    }\n\n    .dataframe thead th {\n        text-align: right;\n    }\n</style>\n<table border=\"1\" class=\"dataframe\">\n  <thead>\n    <tr style=\"text-align: right;\">\n      <th></th>\n      <th>order_date</th>\n      <th>pages_visited</th>\n      <th>order_id</th>\n      <th>customer_id</th>\n      <th>tshirt_category</th>\n      <th>tshirt_price</th>\n      <th>tshirt_quantity</th>\n      <th>tshirt_color</th>\n      <th>tshirt_type</th>\n      <th>tshirt_sex</th>\n    </tr>\n  </thead>\n  <tbody>\n    <tr>\n      <th>0</th>\n      <td>2016-09-04</td>\n      <td>9</td>\n      <td>HTS-038040-0002</td>\n      <td>038040</td>\n      <td>White T-Shirt M</td>\n      <td>20.0</td>\n      <td>1</td>\n      <td>White</td>\n      <td>T-Shirt</td>\n      <td>M</td>\n    </tr>\n    <tr>\n      <th>1</th>\n      <td>2014-11-14</td>\n      <td>11</td>\n      <td>HTS-801797-0001</td>\n      <td>801797</td>\n      <td>White T-Shirt M</td>\n      <td>20.0</td>\n      <td>1</td>\n      <td>White</td>\n      <td>T-Shirt</td>\n      <td>M</td>\n    </tr>\n    <tr>\n      <th>2</th>\n      <td>2017-02-26</td>\n      <td>10</td>\n      <td>HTS-vft1eu-0003</td>\n      <td>vft1eu</td>\n      <td>White T-Shirt F</td>\n      <td>18.0</td>\n      <td>3</td>\n      <td>White</td>\n      <td>T-Shirt</td>\n      <td>F</td>\n    </tr>\n    <tr>\n      <th>3</th>\n      <td>2013-12-01</td>\n      <td>10</td>\n      <td>HTS-914324-0001</td>\n      <td>914324</td>\n      <td>White T-Shirt F</td>\n      <td>18.0</td>\n      <td>1</td>\n      <td>White</td>\n      <td>T-Shirt</td>\n      <td>F</td>\n    </tr>\n    <tr>\n      <th>4</th>\n      <td>2015-10-22</td>\n      <td>12</td>\n      <td>HTS-88ua9r-0001</td>\n      <td>88ua9r</td>\n      <td>White T-Shirt M</td>\n      <td>20.0</td>\n      <td>1</td>\n      <td>White</td>\n      <td>T-Shirt</td>\n      <td>M</td>\n    </tr>\n  </tbody>\n</table>\n</div>"
     },
     "metadata": {},
     "execution_count": 61
    }
   ],
   "source": [
    "orders.head()"
   ]
  },
  {
   "cell_type": "code",
   "execution_count": 62,
   "metadata": {},
   "outputs": [],
   "source": [
    "res = orders.loc[(orders[\"order_date\"] > '2014-12-31') & (orders[\"order_date\"] < '2016-08-02')]"
   ]
  },
  {
   "cell_type": "code",
   "execution_count": 63,
   "metadata": {},
   "outputs": [
    {
     "output_type": "execute_result",
     "data": {
      "text/plain": [
       "   order_date  pages_visited         order_id customer_id  tshirt_category  \\\n",
       "4  2015-10-22             12  HTS-88ua9r-0001      88ua9r  White T-Shirt M   \n",
       "5  2016-01-15              9  HTS-061311-0003      061311  Black T-Shirt F   \n",
       "12 2015-11-24             15  HTS-je57lh-0001      je57lh           Hoodie   \n",
       "13 2015-10-10              8  HTS-252675-0002      252675  White T-Shirt M   \n",
       "15 2015-11-29             15  HTS-heb26i-0001      heb26i  Black T-Shirt F   \n",
       "\n",
       "    tshirt_price  tshirt_quantity tshirt_color tshirt_type tshirt_sex  \n",
       "4           20.0                1        White     T-Shirt          M  \n",
       "5           17.5                4        Black     T-Shirt          F  \n",
       "12          23.0                3       Hoodie        None       None  \n",
       "13          20.0                3        White     T-Shirt          M  \n",
       "15          17.5                1        Black     T-Shirt          F  "
      ],
      "text/html": "<div>\n<style scoped>\n    .dataframe tbody tr th:only-of-type {\n        vertical-align: middle;\n    }\n\n    .dataframe tbody tr th {\n        vertical-align: top;\n    }\n\n    .dataframe thead th {\n        text-align: right;\n    }\n</style>\n<table border=\"1\" class=\"dataframe\">\n  <thead>\n    <tr style=\"text-align: right;\">\n      <th></th>\n      <th>order_date</th>\n      <th>pages_visited</th>\n      <th>order_id</th>\n      <th>customer_id</th>\n      <th>tshirt_category</th>\n      <th>tshirt_price</th>\n      <th>tshirt_quantity</th>\n      <th>tshirt_color</th>\n      <th>tshirt_type</th>\n      <th>tshirt_sex</th>\n    </tr>\n  </thead>\n  <tbody>\n    <tr>\n      <th>4</th>\n      <td>2015-10-22</td>\n      <td>12</td>\n      <td>HTS-88ua9r-0001</td>\n      <td>88ua9r</td>\n      <td>White T-Shirt M</td>\n      <td>20.0</td>\n      <td>1</td>\n      <td>White</td>\n      <td>T-Shirt</td>\n      <td>M</td>\n    </tr>\n    <tr>\n      <th>5</th>\n      <td>2016-01-15</td>\n      <td>9</td>\n      <td>HTS-061311-0003</td>\n      <td>061311</td>\n      <td>Black T-Shirt F</td>\n      <td>17.5</td>\n      <td>4</td>\n      <td>Black</td>\n      <td>T-Shirt</td>\n      <td>F</td>\n    </tr>\n    <tr>\n      <th>12</th>\n      <td>2015-11-24</td>\n      <td>15</td>\n      <td>HTS-je57lh-0001</td>\n      <td>je57lh</td>\n      <td>Hoodie</td>\n      <td>23.0</td>\n      <td>3</td>\n      <td>Hoodie</td>\n      <td>None</td>\n      <td>None</td>\n    </tr>\n    <tr>\n      <th>13</th>\n      <td>2015-10-10</td>\n      <td>8</td>\n      <td>HTS-252675-0002</td>\n      <td>252675</td>\n      <td>White T-Shirt M</td>\n      <td>20.0</td>\n      <td>3</td>\n      <td>White</td>\n      <td>T-Shirt</td>\n      <td>M</td>\n    </tr>\n    <tr>\n      <th>15</th>\n      <td>2015-11-29</td>\n      <td>15</td>\n      <td>HTS-heb26i-0001</td>\n      <td>heb26i</td>\n      <td>Black T-Shirt F</td>\n      <td>17.5</td>\n      <td>1</td>\n      <td>Black</td>\n      <td>T-Shirt</td>\n      <td>F</td>\n    </tr>\n  </tbody>\n</table>\n</div>"
     },
     "metadata": {},
     "execution_count": 63
    }
   ],
   "source": [
    "res.head()"
   ]
  },
  {
   "source": [
    "## Zadanie 2"
   ],
   "cell_type": "markdown",
   "metadata": {}
  },
  {
   "cell_type": "code",
   "execution_count": 64,
   "metadata": {},
   "outputs": [],
   "source": [
    "customers = pd.read_csv(\"csv/customers.csv\")"
   ]
  },
  {
   "cell_type": "code",
   "execution_count": 74,
   "metadata": {},
   "outputs": [
    {
     "output_type": "execute_result",
     "data": {
      "text/plain": [
       "Index(['customer_id', 'gender', 'birthdate', 'user_agent', 'ip_address',\n",
       "       'campaign'],\n",
       "      dtype='object')"
      ]
     },
     "metadata": {},
     "execution_count": 74
    }
   ],
   "source": [
    "customers.columns"
   ]
  },
  {
   "cell_type": "code",
   "execution_count": 68,
   "metadata": {},
   "outputs": [
    {
     "output_type": "stream",
     "name": "stdout",
     "text": [
      "\nrozmiar datasetu orders (26552, 10)\nrozmiar datasetu customers (18766, 6)\n\n"
     ]
    }
   ],
   "source": [
    "print(f\"\"\"\n",
    "rozmiar datasetu orders {orders.shape}\n",
    "rozmiar datasetu customers {customers.shape}\n",
    "\"\"\")"
   ]
  },
  {
   "cell_type": "code",
   "execution_count": 69,
   "metadata": {},
   "outputs": [],
   "source": [
    "customers.rename(columns={'customerID':'customer_id'}, inplace=True)\n"
   ]
  },
  {
   "cell_type": "code",
   "execution_count": 71,
   "metadata": {},
   "outputs": [
    {
     "output_type": "execute_result",
     "data": {
      "text/plain": [
       "  customer_id gender   birthdate  \\\n",
       "0      886900      M   1953/10/5   \n",
       "1      038040      F  1946/12/21   \n",
       "2      698696      F   1983/12/1   \n",
       "3      sn9keh      M   1990/9/23   \n",
       "4      496907      M    1869/6/8   \n",
       "\n",
       "                                          user_agent     ip_address  campaign  \n",
       "0  Mozilla/5.0 (Windows NT 10.0; Win64; x64) Appl...   69.8.136.110     False  \n",
       "1  Mozilla/5.0 (Windows NT 10.0; WOW64) AppleWebK...  67.74.254.174     False  \n",
       "2  Mozilla/5.0 (Windows NT 6.3; WOW64) AppleWebKi...  95.135.70.206     False  \n",
       "3  Mozilla/5.0 (Macintosh; Intel Mac OS X 10_11_6...  129.50.205.26     False  \n",
       "4  Mozilla/5.0 (Windows NT 6.1; Win64; x64) Apple...   81.98.234.29     False  "
      ],
      "text/html": "<div>\n<style scoped>\n    .dataframe tbody tr th:only-of-type {\n        vertical-align: middle;\n    }\n\n    .dataframe tbody tr th {\n        vertical-align: top;\n    }\n\n    .dataframe thead th {\n        text-align: right;\n    }\n</style>\n<table border=\"1\" class=\"dataframe\">\n  <thead>\n    <tr style=\"text-align: right;\">\n      <th></th>\n      <th>customer_id</th>\n      <th>gender</th>\n      <th>birthdate</th>\n      <th>user_agent</th>\n      <th>ip_address</th>\n      <th>campaign</th>\n    </tr>\n  </thead>\n  <tbody>\n    <tr>\n      <th>0</th>\n      <td>886900</td>\n      <td>M</td>\n      <td>1953/10/5</td>\n      <td>Mozilla/5.0 (Windows NT 10.0; Win64; x64) Appl...</td>\n      <td>69.8.136.110</td>\n      <td>False</td>\n    </tr>\n    <tr>\n      <th>1</th>\n      <td>038040</td>\n      <td>F</td>\n      <td>1946/12/21</td>\n      <td>Mozilla/5.0 (Windows NT 10.0; WOW64) AppleWebK...</td>\n      <td>67.74.254.174</td>\n      <td>False</td>\n    </tr>\n    <tr>\n      <th>2</th>\n      <td>698696</td>\n      <td>F</td>\n      <td>1983/12/1</td>\n      <td>Mozilla/5.0 (Windows NT 6.3; WOW64) AppleWebKi...</td>\n      <td>95.135.70.206</td>\n      <td>False</td>\n    </tr>\n    <tr>\n      <th>3</th>\n      <td>sn9keh</td>\n      <td>M</td>\n      <td>1990/9/23</td>\n      <td>Mozilla/5.0 (Macintosh; Intel Mac OS X 10_11_6...</td>\n      <td>129.50.205.26</td>\n      <td>False</td>\n    </tr>\n    <tr>\n      <th>4</th>\n      <td>496907</td>\n      <td>M</td>\n      <td>1869/6/8</td>\n      <td>Mozilla/5.0 (Windows NT 6.1; Win64; x64) Apple...</td>\n      <td>81.98.234.29</td>\n      <td>False</td>\n    </tr>\n  </tbody>\n</table>\n</div>"
     },
     "metadata": {},
     "execution_count": 71
    }
   ],
   "source": [
    "customers.head()"
   ]
  },
  {
   "cell_type": "code",
   "execution_count": 75,
   "metadata": {},
   "outputs": [],
   "source": [
    "merged_df = pd.merge(left=orders,right=customers,left_on='customer_id', right_on='customer_id')"
   ]
  },
  {
   "cell_type": "code",
   "execution_count": 76,
   "metadata": {},
   "outputs": [
    {
     "output_type": "execute_result",
     "data": {
      "text/plain": [
       "  order_date  pages_visited         order_id customer_id  tshirt_category  \\\n",
       "0 2016-09-04              9  HTS-038040-0002      038040  White T-Shirt M   \n",
       "1 2014-06-04             13  HTS-038040-0001      038040  White T-Shirt F   \n",
       "2 2014-11-14             11  HTS-801797-0001      801797  White T-Shirt M   \n",
       "3 2015-10-22             12  HTS-801797-0002      801797  White T-Shirt M   \n",
       "4 2017-02-26             10  HTS-vft1eu-0003      vft1eu  White T-Shirt F   \n",
       "\n",
       "   tshirt_price  tshirt_quantity tshirt_color tshirt_type tshirt_sex gender  \\\n",
       "0          20.0                1        White     T-Shirt          M      F   \n",
       "1          18.0                1        White     T-Shirt          F      F   \n",
       "2          20.0                1        White     T-Shirt          M      M   \n",
       "3          20.0                2        White     T-Shirt          M      M   \n",
       "4          18.0                3        White     T-Shirt          F      F   \n",
       "\n",
       "    birthdate                                         user_agent  \\\n",
       "0  1946/12/21  Mozilla/5.0 (Windows NT 10.0; WOW64) AppleWebK...   \n",
       "1  1946/12/21  Mozilla/5.0 (Windows NT 10.0; WOW64) AppleWebK...   \n",
       "2   1956/7/19  Mozilla/5.0 (Windows NT 10.0; Win64; x64) Appl...   \n",
       "3   1956/7/19  Mozilla/5.0 (Windows NT 10.0; Win64; x64) Appl...   \n",
       "4   1969/6/27  Mozilla/5.0 (Macintosh; Intel Mac OS X 10_12_3...   \n",
       "\n",
       "        ip_address  campaign  \n",
       "0    67.74.254.174     False  \n",
       "1    67.74.254.174     False  \n",
       "2  137.155.219.158     False  \n",
       "3  137.155.219.158     False  \n",
       "4     53.115.6.106      True  "
      ],
      "text/html": "<div>\n<style scoped>\n    .dataframe tbody tr th:only-of-type {\n        vertical-align: middle;\n    }\n\n    .dataframe tbody tr th {\n        vertical-align: top;\n    }\n\n    .dataframe thead th {\n        text-align: right;\n    }\n</style>\n<table border=\"1\" class=\"dataframe\">\n  <thead>\n    <tr style=\"text-align: right;\">\n      <th></th>\n      <th>order_date</th>\n      <th>pages_visited</th>\n      <th>order_id</th>\n      <th>customer_id</th>\n      <th>tshirt_category</th>\n      <th>tshirt_price</th>\n      <th>tshirt_quantity</th>\n      <th>tshirt_color</th>\n      <th>tshirt_type</th>\n      <th>tshirt_sex</th>\n      <th>gender</th>\n      <th>birthdate</th>\n      <th>user_agent</th>\n      <th>ip_address</th>\n      <th>campaign</th>\n    </tr>\n  </thead>\n  <tbody>\n    <tr>\n      <th>0</th>\n      <td>2016-09-04</td>\n      <td>9</td>\n      <td>HTS-038040-0002</td>\n      <td>038040</td>\n      <td>White T-Shirt M</td>\n      <td>20.0</td>\n      <td>1</td>\n      <td>White</td>\n      <td>T-Shirt</td>\n      <td>M</td>\n      <td>F</td>\n      <td>1946/12/21</td>\n      <td>Mozilla/5.0 (Windows NT 10.0; WOW64) AppleWebK...</td>\n      <td>67.74.254.174</td>\n      <td>False</td>\n    </tr>\n    <tr>\n      <th>1</th>\n      <td>2014-06-04</td>\n      <td>13</td>\n      <td>HTS-038040-0001</td>\n      <td>038040</td>\n      <td>White T-Shirt F</td>\n      <td>18.0</td>\n      <td>1</td>\n      <td>White</td>\n      <td>T-Shirt</td>\n      <td>F</td>\n      <td>F</td>\n      <td>1946/12/21</td>\n      <td>Mozilla/5.0 (Windows NT 10.0; WOW64) AppleWebK...</td>\n      <td>67.74.254.174</td>\n      <td>False</td>\n    </tr>\n    <tr>\n      <th>2</th>\n      <td>2014-11-14</td>\n      <td>11</td>\n      <td>HTS-801797-0001</td>\n      <td>801797</td>\n      <td>White T-Shirt M</td>\n      <td>20.0</td>\n      <td>1</td>\n      <td>White</td>\n      <td>T-Shirt</td>\n      <td>M</td>\n      <td>M</td>\n      <td>1956/7/19</td>\n      <td>Mozilla/5.0 (Windows NT 10.0; Win64; x64) Appl...</td>\n      <td>137.155.219.158</td>\n      <td>False</td>\n    </tr>\n    <tr>\n      <th>3</th>\n      <td>2015-10-22</td>\n      <td>12</td>\n      <td>HTS-801797-0002</td>\n      <td>801797</td>\n      <td>White T-Shirt M</td>\n      <td>20.0</td>\n      <td>2</td>\n      <td>White</td>\n      <td>T-Shirt</td>\n      <td>M</td>\n      <td>M</td>\n      <td>1956/7/19</td>\n      <td>Mozilla/5.0 (Windows NT 10.0; Win64; x64) Appl...</td>\n      <td>137.155.219.158</td>\n      <td>False</td>\n    </tr>\n    <tr>\n      <th>4</th>\n      <td>2017-02-26</td>\n      <td>10</td>\n      <td>HTS-vft1eu-0003</td>\n      <td>vft1eu</td>\n      <td>White T-Shirt F</td>\n      <td>18.0</td>\n      <td>3</td>\n      <td>White</td>\n      <td>T-Shirt</td>\n      <td>F</td>\n      <td>F</td>\n      <td>1969/6/27</td>\n      <td>Mozilla/5.0 (Macintosh; Intel Mac OS X 10_12_3...</td>\n      <td>53.115.6.106</td>\n      <td>True</td>\n    </tr>\n  </tbody>\n</table>\n</div>"
     },
     "metadata": {},
     "execution_count": 76
    }
   ],
   "source": [
    "merged_df.head()"
   ]
  },
  {
   "source": [
    "\"\"\"\n",
    "Skorzystalem z metody merge poniewaz jest ona wygodna do laczenia datasetow po nazwie columny, w tym przypadku chce inner join, zeby tylko byly customery z orderami\n",
    "\"\"\""
   ],
   "cell_type": "code",
   "metadata": {},
   "execution_count": 77,
   "outputs": [
    {
     "output_type": "execute_result",
     "data": {
      "text/plain": [
       "'\\nSkorzystalem z metody merge poniewaz jest ona wygodna do laczenia datasetow po nazwie columny, w tym przypadku chce inner join, zeby tylko byly customery z orderami\\n'"
      ]
     },
     "metadata": {},
     "execution_count": 77
    }
   ]
  },
  {
   "source": [
    "## Zadanie 3"
   ],
   "cell_type": "markdown",
   "metadata": {}
  },
  {
   "cell_type": "code",
   "execution_count": 78,
   "metadata": {},
   "outputs": [],
   "source": [
    "merged_df.to_csv(\"csv/merged.csv\",index=False)"
   ]
  },
  {
   "cell_type": "code",
   "execution_count": null,
   "metadata": {},
   "outputs": [],
   "source": []
  }
 ]
}