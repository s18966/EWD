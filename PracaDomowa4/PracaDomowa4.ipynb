{
 "cells": [
  {
   "cell_type": "code",
   "execution_count": 24,
   "metadata": {},
   "outputs": [],
   "source": [
    "#imports\n",
    "import numpy as np\n",
    "import pandas as pd\n",
    "import math"
   ]
  },
  {
   "cell_type": "markdown",
   "metadata": {},
   "source": [
    "## Zadanie 1"
   ]
  },
  {
   "cell_type": "code",
   "execution_count": 6,
   "metadata": {},
   "outputs": [
    {
     "name": "stdout",
     "output_type": "stream",
     "text": [
      "Number of elements is 960\n",
      "Shape of the matrix is (60, 16)\n",
      "\n",
      "Mean for matrix is     : 338.2209319148936\n",
      "Median for matrix is   : 33.4\n",
      "Variance for matrix is : 1036473.5935947594\n",
      "\n",
      "True\n",
      "\n",
      "Mean for matrix is     : 332.2025610465116\n",
      "Median for matrix is   : 34.0\n",
      "Variance for matrix is : 1042134.7488820893\n",
      "\n"
     ]
    }
   ],
   "source": [
    "df_1 = pd.read_csv('csv/Zadanie_1.csv', delimiter=\";\")\n",
    "df_1.head()\n",
    "\n",
    "arr_1 = df_1.to_numpy()\n",
    "\n",
    "print(f\"Number of elements is {arr_1.size}\")\n",
    "print(f\"Shape of the matrix is {arr_1.shape}\")\n",
    "\n",
    "\n",
    "print(f\"\"\"\n",
    "Mean for matrix is     : {np.nanmean(arr_1)}\n",
    "Median for matrix is   : {np.nanmedian(arr_1)}\n",
    "Variance for matrix is : {np.nanvar(arr_1)}\n",
    "\"\"\")\n",
    "\n",
    "print(np.isnan(arr_1).any())\n",
    "\n",
    "arr_1 = arr_1[~np.isnan(arr_1).any(axis=1)]\n",
    "\n",
    "print(f\"\"\"\n",
    "Mean for matrix is     : {np.nanmean(arr_1)}\n",
    "Median for matrix is   : {np.nanmedian(arr_1)}\n",
    "Variance for matrix is : {np.nanvar(arr_1)}\n",
    "\"\"\")\n"
   ]
  },
  {
   "cell_type": "markdown",
   "metadata": {},
   "source": [
    "## Zadanie 2"
   ]
  },
  {
   "cell_type": "code",
   "execution_count": 15,
   "metadata": {},
   "outputs": [
    {
     "name": "stdout",
     "output_type": "stream",
     "text": [
      "\n",
      "Eigenvalues of matrix: [104.34960192 +0.j         -23.35660516+18.84992811j\n",
      " -23.35660516-18.84992811j  15.92989017 +0.j\n",
      "  -4.99456452 +0.j           0.35205717 +5.80125175j\n",
      "   0.35205717 -5.80125175j  -1.03383491 +0.j\n",
      "   3.87900166 +1.42651533j   3.87900166 -1.42651533j]\n",
      "Eigenvectors of matrix: [[-0.29000475+0.j         -0.07545445+0.07743149j -0.07545445-0.07743149j\n",
      "  -0.03544485+0.j          0.42681634+0.j         -0.22172831-0.29869259j\n",
      "  -0.22172831+0.29869259j  0.41343726+0.j         -0.28670255+0.21891569j\n",
      "  -0.28670255-0.21891569j]\n",
      " [-0.24163153+0.j          0.41229621+0.09197324j  0.41229621-0.09197324j\n",
      "   0.45873475+0.j         -0.27056206+0.j         -0.01331344+0.1422557j\n",
      "  -0.01331344-0.1422557j  -0.31591047+0.j          0.41954481-0.10561864j\n",
      "   0.41954481+0.10561864j]\n",
      " [-0.41060573+0.j          0.37509638-0.00960818j  0.37509638+0.00960818j\n",
      "   0.64067986+0.j         -0.37967609+0.j         -0.60525232+0.j\n",
      "  -0.60525232-0.j          0.6457768 +0.j          0.63631555+0.j\n",
      "   0.63631555-0.j        ]\n",
      " [-0.18899971+0.j         -0.05624951+0.174848j   -0.05624951-0.174848j\n",
      "   0.25174536+0.j         -0.07625465+0.j         -0.14870016-0.00795735j\n",
      "  -0.14870016+0.00795735j  0.15206852+0.j          0.21373907+0.00228636j\n",
      "   0.21373907-0.00228636j]\n",
      " [-0.42862199+0.j          0.47707538+0.14580554j  0.47707538-0.14580554j\n",
      "   0.39445834+0.j         -0.69542141+0.j          0.07336021-0.43070469j\n",
      "   0.07336021+0.43070469j -0.25948775+0.j          0.20250102-0.00411374j\n",
      "   0.20250102+0.00411374j]\n",
      " [-0.14730562+0.j         -0.57352911+0.j         -0.57352911-0.j\n",
      "   0.10071325+0.j          0.30158403+0.j         -0.04758838+0.12911829j\n",
      "  -0.04758838-0.12911829j  0.21274791+0.j         -0.1503483 +0.03452906j\n",
      "  -0.1503483 -0.03452906j]\n",
      " [-0.34660607+0.j         -0.13987374+0.06837303j -0.13987374-0.06837303j\n",
      "  -0.04800705+0.j          0.06798106+0.j          0.00512204+0.04215641j\n",
      "   0.00512204-0.04215641j  0.05365357+0.j         -0.0534517 +0.00550802j\n",
      "  -0.0534517 -0.00550802j]\n",
      " [-0.34919853+0.j         -0.08414467+0.07749664j -0.08414467-0.07749664j\n",
      "   0.25925893+0.j         -0.10039982+0.j         -0.06761437-0.25584347j\n",
      "  -0.06761437+0.25584347j -0.38214447+0.j          0.29485109-0.01300678j\n",
      "   0.29485109+0.01300678j]\n",
      " [-0.2440048 +0.j         -0.13777908+0.00402196j -0.13777908-0.00402196j\n",
      "   0.27709282+0.j         -0.00524365+0.j          0.21866893+0.04463336j\n",
      "   0.21866893-0.04463336j -0.12045798+0.j          0.27558332+0.02285482j\n",
      "   0.27558332-0.02285482j]\n",
      " [-0.38231403+0.j         -0.00476199+0.03456836j -0.00476199-0.03456836j\n",
      "   0.04918165+0.j          0.07322815+0.j          0.1819345 -0.29687727j\n",
      "   0.1819345 +0.29687727j -0.11445044+0.j          0.02830199+0.00579727j\n",
      "   0.02830199-0.00579727j]]\n",
      "\n",
      "=====================================================\n"
     ]
    }
   ],
   "source": [
    "arr_2 = pd.read_csv('csv/Zadanie_2.csv', delimiter=\";\", header=None).to_numpy()\n",
    "eigvs = np.linalg.eig(arr_2)\n",
    "print(f\"\"\"\n",
    "Eigenvalues of matrix: {eigvs[0]}\n",
    "Eigenvectors of matrix: {eigvs[1]}\n",
    "\"\"\")\n",
    "\n",
    "print('=====================================================')\n"
   ]
  },
  {
   "cell_type": "code",
   "execution_count": 12,
   "metadata": {},
   "outputs": [
    {
     "name": "stdout",
     "output_type": "stream",
     "text": [
      "Transposed matrix is [[ 0.47461371  0.13269253 -0.24726695 -0.82965177  0.28250384 -0.17012825\n",
      "   0.58274426  0.83686705  0.4146721  -1.56942847]\n",
      " [-0.38032531 -0.11226789  0.23216372  0.58853747 -0.2508954   0.10174485\n",
      "  -0.40729564 -0.58325689 -0.2335154   1.11832726]\n",
      " [ 0.13559662  0.58950334 -0.24709855 -0.58789838 -0.30170699 -0.12721938\n",
      "   0.23740295  1.01003036 -0.02151387 -0.64590149]\n",
      " [ 0.01425207  0.14570726 -0.04557569 -0.12721972 -0.08945184 -0.03756624\n",
      "   0.03910376  0.23606066 -0.01436771 -0.11345749]\n",
      " [-0.09473246  0.01725249  0.19145597  0.32960274 -0.28626296  0.08348529\n",
      "  -0.37577603 -0.27295934 -0.25855803  0.74691827]\n",
      " [ 0.16387032  0.10075684 -0.15404907 -0.29794662  0.16916877 -0.02827782\n",
      "   0.20469921  0.28036265  0.15086178 -0.5882585 ]\n",
      " [ 0.04288003  0.02246462 -0.0366803  -0.09024915  0.04322146 -0.01047861\n",
      "   0.06167348  0.07009721  0.0367806  -0.14185925]\n",
      " [-0.26858433 -0.21167346  0.25168367  0.55607234 -0.16804333  0.01066975\n",
      "  -0.22435849 -0.52957038 -0.15757224  0.77302113]\n",
      " [-0.15583541 -0.13041404  0.0984558   0.3150966  -0.09916278 -0.04426337\n",
      "  -0.20832614 -0.18404388 -0.04309498  0.45794224]\n",
      " [-0.05970783 -0.11342903  0.09122544  0.11908074 -0.00311646  0.02370807\n",
      "  -0.07526552 -0.06924544 -0.10963836  0.16553689]]\n"
     ]
    }
   ],
   "source": [
    "print(f'Transposed matrix is {np.linalg.inv(arr_2)}')"
   ]
  },
  {
   "cell_type": "markdown",
   "metadata": {},
   "source": [
    "## Zadanie 3"
   ]
  },
  {
   "cell_type": "code",
   "execution_count": 26,
   "metadata": {},
   "outputs": [],
   "source": [
    "#Read data\n",
    "arr_3_a = pd.read_csv('csv/Zadanie_3_macierz_A.csv', header=None).to_numpy()\n",
    "arr_3_b = pd.read_csv('csv/Zadanie_3_macierz_B.csv', header=None).to_numpy()"
   ]
  },
  {
   "cell_type": "code",
   "execution_count": 29,
   "metadata": {},
   "outputs": [],
   "source": [
    "#Functions\n",
    "\n",
    "def sum(arr):\n",
    "    s = 0\n",
    "    for i in range(len(arr)):\n",
    "        s = s + arr[i]\n",
    "    return s\n",
    "\n",
    "def norm(arr):\n",
    "    n = 0\n",
    "    for i in range(len(arr)):\n",
    "        n = n + (arr[i] ** 2)\n",
    "    \n",
    "    return math.sqrt(n)\n",
    "\n",
    "def cos_sim(a,b):\n",
    "    arr_out = []\n",
    "    for i in range(len(a)):\n",
    "        a_i = a[i]\n",
    "        a_i_vec = sum(a_i)\n",
    "        a_i_norm = norm(a_i)\n",
    "        layer = []\n",
    "        for j in range(len(b)):\n",
    "            b_j = b[j]\n",
    "            b_j_vec = sum(b_j)\n",
    "            b_j_norm = norm(b_j)\n",
    "            res = (a_i_vec * b_j_vec) / (a_i_norm * b_j_norm)\n",
    "            layer.append(res)\n",
    "\n",
    "        arr_out.append(layer)\n",
    "\n",
    "    return np.array(arr_out)\n",
    "\n",
    "\n",
    "    "
   ]
  },
  {
   "cell_type": "code",
   "execution_count": 30,
   "metadata": {},
   "outputs": [
    {
     "name": "stdout",
     "output_type": "stream",
     "text": [
      "(3, 5)\n",
      "[[2.47972168 2.89569106 2.49517181 2.64072614 2.27776981]\n",
      " [1.77122977 2.06835076 1.78226558 1.88623296 1.62697843]\n",
      " [2.49400889 2.91237493 2.50954803 2.65594099 2.29089344]]\n"
     ]
    }
   ],
   "source": [
    "out = cos_sim(arr_3_a, arr_3_b)\n",
    "print(out.shape)\n",
    "print(out)"
   ]
  },
  {
   "cell_type": "markdown",
   "metadata": {},
   "source": [
    "## Zadanie 4"
   ]
  },
  {
   "cell_type": "code",
   "execution_count": 38,
   "metadata": {},
   "outputs": [
    {
     "ename": "KeyError",
     "evalue": "199",
     "output_type": "error",
     "traceback": [
      "\u001b[0;31m---------------------------------------------------------------------------\u001b[0m",
      "\u001b[0;31mKeyError\u001b[0m                                  Traceback (most recent call last)",
      "\u001b[0;32m<ipython-input-38-8b09580572da>\u001b[0m in \u001b[0;36m<module>\u001b[0;34m\u001b[0m\n\u001b[1;32m      4\u001b[0m \u001b[0mdf\u001b[0m\u001b[0;34m.\u001b[0m\u001b[0mhead\u001b[0m\u001b[0;34m(\u001b[0m\u001b[0;34m)\u001b[0m\u001b[0;34m\u001b[0m\u001b[0;34m\u001b[0m\u001b[0m\n\u001b[1;32m      5\u001b[0m \u001b[0mdf\u001b[0m\u001b[0;34m[\u001b[0m\u001b[0;34m\"DateTime\"\u001b[0m\u001b[0;34m]\u001b[0m \u001b[0;34m=\u001b[0m \u001b[0mpd\u001b[0m\u001b[0;34m.\u001b[0m\u001b[0mto_datetime\u001b[0m\u001b[0;34m(\u001b[0m\u001b[0mdf\u001b[0m\u001b[0;34m[\u001b[0m\u001b[0;34m\"DateTime\"\u001b[0m\u001b[0;34m]\u001b[0m\u001b[0;34m)\u001b[0m\u001b[0;34m\u001b[0m\u001b[0;34m\u001b[0m\u001b[0m\n\u001b[0;32m----> 6\u001b[0;31m \u001b[0mdf\u001b[0m \u001b[0;34m=\u001b[0m \u001b[0mdf\u001b[0m\u001b[0;34m.\u001b[0m\u001b[0mgroupby\u001b[0m\u001b[0;34m(\u001b[0m\u001b[0;34m[\u001b[0m\u001b[0;34m\"DoctorID\"\u001b[0m\u001b[0;34m,\u001b[0m\u001b[0mdf\u001b[0m\u001b[0;34m[\u001b[0m\u001b[0;34m\"DateTime\"\u001b[0m\u001b[0;34m]\u001b[0m\u001b[0;34m.\u001b[0m\u001b[0mcount\u001b[0m\u001b[0;34m(\u001b[0m\u001b[0;34m)\u001b[0m\u001b[0;34m]\u001b[0m\u001b[0;34m)\u001b[0m\u001b[0;34m\u001b[0m\u001b[0;34m\u001b[0m\u001b[0m\n\u001b[0m\u001b[1;32m      7\u001b[0m \u001b[0mdf\u001b[0m\u001b[0;34m.\u001b[0m\u001b[0mhead\u001b[0m\u001b[0;34m(\u001b[0m\u001b[0;34m)\u001b[0m\u001b[0;34m\u001b[0m\u001b[0;34m\u001b[0m\u001b[0m\n",
      "\u001b[0;32m/opt/anaconda3/lib/python3.8/site-packages/pandas/core/frame.py\u001b[0m in \u001b[0;36mgroupby\u001b[0;34m(self, by, axis, level, as_index, sort, group_keys, squeeze, observed, dropna)\u001b[0m\n\u001b[1;32m   6509\u001b[0m         \u001b[0maxis\u001b[0m \u001b[0;34m=\u001b[0m \u001b[0mself\u001b[0m\u001b[0;34m.\u001b[0m\u001b[0m_get_axis_number\u001b[0m\u001b[0;34m(\u001b[0m\u001b[0maxis\u001b[0m\u001b[0;34m)\u001b[0m\u001b[0;34m\u001b[0m\u001b[0;34m\u001b[0m\u001b[0m\n\u001b[1;32m   6510\u001b[0m \u001b[0;34m\u001b[0m\u001b[0m\n\u001b[0;32m-> 6511\u001b[0;31m         return DataFrameGroupBy(\n\u001b[0m\u001b[1;32m   6512\u001b[0m             \u001b[0mobj\u001b[0m\u001b[0;34m=\u001b[0m\u001b[0mself\u001b[0m\u001b[0;34m,\u001b[0m\u001b[0;34m\u001b[0m\u001b[0;34m\u001b[0m\u001b[0m\n\u001b[1;32m   6513\u001b[0m             \u001b[0mkeys\u001b[0m\u001b[0;34m=\u001b[0m\u001b[0mby\u001b[0m\u001b[0;34m,\u001b[0m\u001b[0;34m\u001b[0m\u001b[0;34m\u001b[0m\u001b[0m\n",
      "\u001b[0;32m/opt/anaconda3/lib/python3.8/site-packages/pandas/core/groupby/groupby.py\u001b[0m in \u001b[0;36m__init__\u001b[0;34m(self, obj, keys, axis, level, grouper, exclusions, selection, as_index, sort, group_keys, squeeze, observed, mutated, dropna)\u001b[0m\n\u001b[1;32m    523\u001b[0m             \u001b[0;32mfrom\u001b[0m \u001b[0mpandas\u001b[0m\u001b[0;34m.\u001b[0m\u001b[0mcore\u001b[0m\u001b[0;34m.\u001b[0m\u001b[0mgroupby\u001b[0m\u001b[0;34m.\u001b[0m\u001b[0mgrouper\u001b[0m \u001b[0;32mimport\u001b[0m \u001b[0mget_grouper\u001b[0m\u001b[0;34m\u001b[0m\u001b[0;34m\u001b[0m\u001b[0m\n\u001b[1;32m    524\u001b[0m \u001b[0;34m\u001b[0m\u001b[0m\n\u001b[0;32m--> 525\u001b[0;31m             grouper, exclusions, obj = get_grouper(\n\u001b[0m\u001b[1;32m    526\u001b[0m                 \u001b[0mobj\u001b[0m\u001b[0;34m,\u001b[0m\u001b[0;34m\u001b[0m\u001b[0;34m\u001b[0m\u001b[0m\n\u001b[1;32m    527\u001b[0m                 \u001b[0mkeys\u001b[0m\u001b[0;34m,\u001b[0m\u001b[0;34m\u001b[0m\u001b[0;34m\u001b[0m\u001b[0m\n",
      "\u001b[0;32m/opt/anaconda3/lib/python3.8/site-packages/pandas/core/groupby/grouper.py\u001b[0m in \u001b[0;36mget_grouper\u001b[0;34m(obj, key, axis, level, sort, observed, mutated, validate, dropna)\u001b[0m\n\u001b[1;32m    779\u001b[0m                 \u001b[0min_axis\u001b[0m\u001b[0;34m,\u001b[0m \u001b[0mname\u001b[0m\u001b[0;34m,\u001b[0m \u001b[0mlevel\u001b[0m\u001b[0;34m,\u001b[0m \u001b[0mgpr\u001b[0m \u001b[0;34m=\u001b[0m \u001b[0;32mFalse\u001b[0m\u001b[0;34m,\u001b[0m \u001b[0;32mNone\u001b[0m\u001b[0;34m,\u001b[0m \u001b[0mgpr\u001b[0m\u001b[0;34m,\u001b[0m \u001b[0;32mNone\u001b[0m\u001b[0;34m\u001b[0m\u001b[0;34m\u001b[0m\u001b[0m\n\u001b[1;32m    780\u001b[0m             \u001b[0;32melse\u001b[0m\u001b[0;34m:\u001b[0m\u001b[0;34m\u001b[0m\u001b[0;34m\u001b[0m\u001b[0m\n\u001b[0;32m--> 781\u001b[0;31m                 \u001b[0;32mraise\u001b[0m \u001b[0mKeyError\u001b[0m\u001b[0;34m(\u001b[0m\u001b[0mgpr\u001b[0m\u001b[0;34m)\u001b[0m\u001b[0;34m\u001b[0m\u001b[0;34m\u001b[0m\u001b[0m\n\u001b[0m\u001b[1;32m    782\u001b[0m         \u001b[0;32melif\u001b[0m \u001b[0misinstance\u001b[0m\u001b[0;34m(\u001b[0m\u001b[0mgpr\u001b[0m\u001b[0;34m,\u001b[0m \u001b[0mGrouper\u001b[0m\u001b[0;34m)\u001b[0m \u001b[0;32mand\u001b[0m \u001b[0mgpr\u001b[0m\u001b[0;34m.\u001b[0m\u001b[0mkey\u001b[0m \u001b[0;32mis\u001b[0m \u001b[0;32mnot\u001b[0m \u001b[0;32mNone\u001b[0m\u001b[0;34m:\u001b[0m\u001b[0;34m\u001b[0m\u001b[0;34m\u001b[0m\u001b[0m\n\u001b[1;32m    783\u001b[0m             \u001b[0;31m# Add key to exclusions\u001b[0m\u001b[0;34m\u001b[0m\u001b[0;34m\u001b[0m\u001b[0;34m\u001b[0m\u001b[0m\n",
      "\u001b[0;31mKeyError\u001b[0m: 199"
     ]
    }
   ],
   "source": [
    "#TODO\n",
    "#df = pd.read_csv('csv/Zadanie_4.csv', delimiter=';')\n",
    "#df = df.loc[:, ~df.columns.str.contains('^Unnamed')]\n",
    "\n",
    "#df.head()\n",
    "#df[\"DateTime\"] = pd.to_datetime(df[\"DateTime\"])\n",
    "#df = df.groupby([\"DoctorID\",df[\"DateTime\"].count()])\n",
    "#df.head()"
   ]
  }
 ],
 "metadata": {
  "interpreter": {
   "hash": "40d3a090f54c6569ab1632332b64b2c03c39dcf918b08424e98f38b5ae0af88f"
  },
  "kernelspec": {
   "display_name": "Python 3.8.5 ('base')",
   "language": "python",
   "name": "python3"
  },
  "language_info": {
   "codemirror_mode": {
    "name": "ipython",
    "version": 3
   },
   "file_extension": ".py",
   "mimetype": "text/x-python",
   "name": "python",
   "nbconvert_exporter": "python",
   "pygments_lexer": "ipython3",
   "version": "3.8.5"
  },
  "orig_nbformat": 4
 },
 "nbformat": 4,
 "nbformat_minor": 2
}
